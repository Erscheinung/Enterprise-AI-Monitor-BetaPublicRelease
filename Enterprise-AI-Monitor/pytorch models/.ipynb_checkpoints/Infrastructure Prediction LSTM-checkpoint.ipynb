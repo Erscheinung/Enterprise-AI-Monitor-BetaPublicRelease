{
 "cells": [
  {
   "cell_type": "markdown",
   "id": "03da9b4e-d0ff-4430-afeb-e1866bc042fe",
   "metadata": {},
   "source": [
    "## Install Libraries"
   ]
  },
  {
   "cell_type": "code",
   "execution_count": 21,
   "id": "39450cbe-3fac-4c6e-b9f8-0e8cb84e9986",
   "metadata": {},
   "outputs": [],
   "source": [
    "import torch\n",
    "import torch.nn as nn\n",
    "import torch.nn.functional as F\n",
    "import torch.optim as optim\n",
    "from torch.utils.data import TensorDataset, DataLoader\n",
    "import numpy as np\n",
    "import pandas as pd\n",
    "from sklearn.preprocessing import MinMaxScaler\n",
    "from sklearn.model_selection import train_test_split\n",
    "from sklearn.metrics import mean_squared_error, mean_absolute_error\n",
    "import matplotlib.pyplot as plt"
   ]
  },
  {
   "cell_type": "markdown",
   "id": "860444d1-c536-4df8-8233-bb8d874aa819",
   "metadata": {},
   "source": [
    "## Load the dataset"
   ]
  },
  {
   "cell_type": "code",
   "execution_count": 33,
   "id": "5b280491-7290-4679-8068-429227d0d11f",
   "metadata": {},
   "outputs": [
    {
     "name": "stdout",
     "output_type": "stream",
     "text": [
      "   41700  237  23.3799999237  30.08000030518  42.2000007629  \\\n",
      "0  39600  265          26.36       29.540000      57.599998   \n",
      "1  42600  770          49.14       60.099999      41.860001   \n",
      "2  40800  776          33.24       47.520000      43.599998   \n",
      "3  42900  393          45.72       58.720000      42.000000   \n",
      "4  39600  610          41.70       59.220001      42.599998   \n",
      "\n",
      "   15.820000267020001  13.860000038159999  12.64000015258  \n",
      "0               17.46           18.900000           16.70  \n",
      "1               33.20           31.220000           30.52  \n",
      "2               21.84           22.100000           24.02  \n",
      "3               34.10           36.239999           36.92  \n",
      "4               29.86           29.400000           25.50  \n"
     ]
    },
    {
     "data": {
      "text/plain": [
       "array(['41700', '237', '23.3799999237', '30.08000030518', '42.2000007629',\n",
       "       '15.820000267020001', '13.860000038159999', '12.64000015258'],\n",
       "      dtype=object)"
      ]
     },
     "execution_count": 33,
     "metadata": {},
     "output_type": "execute_result"
    }
   ],
   "source": [
    "df = pd.read_csv(\"server_usage.csv\")\n",
    "\n",
    "print(df.head())\n",
    "df.columns.values"
   ]
  },
  {
   "cell_type": "markdown",
   "id": "e3c05c78-c7b8-48a9-97d9-26c5f7023c6c",
   "metadata": {},
   "source": [
    "## Load and Preoprocess dataset"
   ]
  },
  {
   "cell_type": "code",
   "execution_count": 23,
   "id": "972d2db6-e62e-4ff5-984f-b5d1363de3c0",
   "metadata": {},
   "outputs": [],
   "source": [
    "def preprocess_data(file_path, sequence_length=10, test_size=0.2):\n",
    "    df = pd.read_csv(file_path, header=None)\n",
    "    df.columns = [\n",
    "        \"timestamp\", \"machine_id\", \"cpu_usage\", \"memory_usage\",\n",
    "        \"disk_usage\", \"load1\", \"load5\", \"load15\"\n",
    "    ]\n",
    "    \n",
    "    machine_id = 1\n",
    "    df = df[df[\"machine_id\"] == machine_id].reset_index(drop=True)\n",
    "    \n",
    "    features = df[[\"cpu_usage\", \"memory_usage\", \"disk_usage\", \"load1\", \"load5\", \"load15\"]].values\n",
    "    target = df[\"cpu_usage\"].values.reshape(-1, 1)\n",
    "    \n",
    "    # Normalize both features and target\n",
    "    feature_scaler = MinMaxScaler()\n",
    "    target_scaler = MinMaxScaler()\n",
    "    \n",
    "    features = feature_scaler.fit_transform(features)\n",
    "    target = target_scaler.fit_transform(target)\n",
    "    \n",
    "    X, y = create_sequences(features, target.flatten(), sequence_length)\n",
    "    \n",
    "    X_train, X_test, y_train, y_test = train_test_split(\n",
    "        X, y, test_size=test_size, random_state=42, shuffle=False\n",
    "    )\n",
    "    return X_train, X_test, y_train, y_test, feature_scaler, target_scaler"
   ]
  },
  {
   "cell_type": "markdown",
   "id": "2a776000-3100-4bc3-a34e-e992cb61e841",
   "metadata": {},
   "source": [
    "## Create Sequences for time-series data"
   ]
  },
  {
   "cell_type": "code",
   "execution_count": 24,
   "id": "02e9a140-c74d-4c8c-82a9-724828648cc8",
   "metadata": {},
   "outputs": [],
   "source": [
    "def create_sequences(features, target, sequence_length):\n",
    "    X, y = [], []\n",
    "    for i in range(len(features) - sequence_length):\n",
    "        X.append(features[i:i+sequence_length])  # Collect sequences of features\n",
    "        y.append(target[i+sequence_length])  # Collect corresponding targets\n",
    "    return np.array(X), np.array(y)"
   ]
  },
  {
   "cell_type": "markdown",
   "id": "acf25c3a-a2c0-4af7-b7a8-8a60d06964fb",
   "metadata": {},
   "source": [
    "## LSTM Model"
   ]
  },
  {
   "cell_type": "code",
   "execution_count": 25,
   "id": "82591873-498e-4ab2-bb4b-07cfce3afe95",
   "metadata": {},
   "outputs": [],
   "source": [
    "class AttentionLayer(nn.Module):\n",
    "    def __init__(self, hidden_dim):\n",
    "        super(AttentionLayer, self).__init__()\n",
    "        self.attention = nn.Sequential(\n",
    "            nn.Linear(hidden_dim, hidden_dim),\n",
    "            nn.Tanh(),\n",
    "            nn.Linear(hidden_dim, 1)\n",
    "        )\n",
    "    \n",
    "    def forward(self, x):\n",
    "        attention_weights = F.softmax(self.attention(x), dim=1)\n",
    "        context_vector = torch.sum(attention_weights * x, dim=1)\n",
    "        return context_vector\n",
    "\n",
    "class InfrastructureLSTM(nn.Module):\n",
    "    def __init__(self, input_dim=6, hidden_dim=128, num_layers=2, output_dim=1, dropout=0.3):\n",
    "        super(InfrastructureLSTM, self).__init__()\n",
    "        self.hidden_dim = hidden_dim\n",
    "        self.num_layers = num_layers\n",
    "        \n",
    "        # Input layer\n",
    "        self.input_layer = nn.Linear(input_dim, hidden_dim)\n",
    "        \n",
    "        # LSTM layers with residual connections\n",
    "        self.lstm_layers = nn.ModuleList([\n",
    "            nn.LSTM(hidden_dim, hidden_dim, 1, batch_first=True, dropout=dropout)\n",
    "            for _ in range(num_layers)\n",
    "        ])\n",
    "        \n",
    "        # Attention layer\n",
    "        self.attention = AttentionLayer(hidden_dim)\n",
    "        \n",
    "        # Output layers\n",
    "        self.fc1 = nn.Linear(hidden_dim, hidden_dim // 2)\n",
    "        self.dropout = nn.Dropout(dropout)\n",
    "        self.fc2 = nn.Linear(hidden_dim // 2, output_dim)\n",
    "        \n",
    "        # Layer normalization\n",
    "        self.layer_norm = nn.LayerNorm(hidden_dim)\n",
    "        \n",
    "    def forward(self, x):\n",
    "        # Input projection\n",
    "        x = self.input_layer(x)\n",
    "        \n",
    "        # Process LSTM layers with residual connections\n",
    "        h = x\n",
    "        for lstm in self.lstm_layers:\n",
    "            lstm_out, _ = lstm(h)\n",
    "            h = lstm_out + h  # Residual connection\n",
    "            h = self.layer_norm(h)  # Layer normalization\n",
    "        \n",
    "        # Apply attention\n",
    "        context = self.attention(h)\n",
    "        \n",
    "        # Output layers\n",
    "        out = self.fc1(context)\n",
    "        out = F.relu(out)\n",
    "        out = self.dropout(out)\n",
    "        out = self.fc2(out)\n",
    "        \n",
    "        return out"
   ]
  },
  {
   "cell_type": "markdown",
   "id": "d672c654-dc9c-45f8-af71-f858f774df3c",
   "metadata": {},
   "source": [
    "## Training"
   ]
  },
  {
   "cell_type": "code",
   "execution_count": 26,
   "id": "4c21e773-31d4-4ce1-8590-07675a7f7d21",
   "metadata": {},
   "outputs": [],
   "source": [
    "def train_model(X_train, y_train, X_test, y_test, sequence_length, epochs=100, batch_size=32, lr=1e-3):\n",
    "    # Convert data to PyTorch tensors\n",
    "    train_dataset = TensorDataset(\n",
    "        torch.tensor(X_train, dtype=torch.float32),\n",
    "        torch.tensor(y_train, dtype=torch.float32).view(-1, 1)\n",
    "    )\n",
    "    train_loader = DataLoader(train_dataset, batch_size=batch_size, shuffle=True)\n",
    "    \n",
    "    X_test = torch.tensor(X_test, dtype=torch.float32)\n",
    "    y_test = torch.tensor(y_test, dtype=torch.float32).view(-1, 1)\n",
    "    \n",
    "    device = torch.device(\"cuda\" if torch.cuda.is_available() else \"cpu\")\n",
    "    X_test, y_test = X_test.to(device), y_test.to(device)\n",
    "    \n",
    "    # Initialize model, loss, and optimizer\n",
    "    model = InfrastructureLSTM(input_dim=6, hidden_dim=128).to(device)\n",
    "    criterion = nn.MSELoss()\n",
    "    optimizer = optim.AdamW(model.parameters(), lr=lr, weight_decay=1e-5)\n",
    "    scheduler = optim.lr_scheduler.ReduceLROnPlateau(optimizer, mode='min', factor=0.5, patience=10)\n",
    "    \n",
    "    best_test_loss = float('inf')\n",
    "    train_losses, test_losses = [], []\n",
    "    \n",
    "    for epoch in range(epochs):\n",
    "        model.train()\n",
    "        epoch_loss = 0\n",
    "        for batch_X, batch_y in train_loader:\n",
    "            batch_X, batch_y = batch_X.to(device), batch_y.to(device)\n",
    "            \n",
    "            optimizer.zero_grad()\n",
    "            outputs = model(batch_X)\n",
    "            loss = criterion(outputs, batch_y)\n",
    "            loss.backward()\n",
    "            \n",
    "            # Gradient clipping\n",
    "            torch.nn.utils.clip_grad_norm_(model.parameters(), max_norm=1.0)\n",
    "            \n",
    "            optimizer.step()\n",
    "            epoch_loss += loss.item()\n",
    "        \n",
    "        avg_train_loss = epoch_loss / len(train_loader)\n",
    "        train_losses.append(avg_train_loss)\n",
    "        \n",
    "        # Evaluation\n",
    "        model.eval()\n",
    "        with torch.no_grad():\n",
    "            test_outputs = model(X_test)\n",
    "            test_loss = criterion(test_outputs, y_test)\n",
    "            test_losses.append(test_loss.item())\n",
    "            \n",
    "            # Save best model\n",
    "            if test_loss < best_test_loss:\n",
    "                best_test_loss = test_loss\n",
    "                torch.save(model.state_dict(), 'best_model.pt')\n",
    "        \n",
    "        scheduler.step(test_loss)\n",
    "        \n",
    "        if epoch % 10 == 0:\n",
    "            print(f\"Epoch {epoch}/{epochs}, Train Loss: {avg_train_loss:.4f}, Test Loss: {test_loss.item():.4f}\")\n",
    "    \n",
    "    return model, train_losses, test_losses"
   ]
  },
  {
   "cell_type": "markdown",
   "id": "004b0b05-bd22-4824-9c72-81bed615b0ae",
   "metadata": {},
   "source": [
    "## Plot training and test losses"
   ]
  },
  {
   "cell_type": "code",
   "execution_count": 27,
   "id": "9db955e7-3c10-48eb-b0f9-4bfee233e65a",
   "metadata": {},
   "outputs": [],
   "source": [
    "# Plot training and test losses\n",
    "def plot_losses(train_losses, test_losses):\n",
    "    plt.figure(figsize=(10, 5))\n",
    "    plt.plot(train_losses, label=\"Train Loss\")\n",
    "    plt.plot(test_losses, label=\"Test Loss\")\n",
    "    plt.xlabel(\"Epochs\")\n",
    "    plt.ylabel(\"Loss\")\n",
    "    plt.legend()\n",
    "    plt.title(\"Training and Test Loss Over Epochs\")\n",
    "    plt.show()\n"
   ]
  },
  {
   "cell_type": "markdown",
   "id": "e42a17a3-0c38-4d39-b697-b643abc3d6de",
   "metadata": {},
   "source": [
    "## Main Function"
   ]
  },
  {
   "cell_type": "code",
   "execution_count": 32,
   "id": "09d4314d-a912-4cf2-9e25-b20fdebbca19",
   "metadata": {},
   "outputs": [
    {
     "name": "stderr",
     "output_type": "stream",
     "text": [
      "C:\\Users\\91965\\anaconda3\\envs\\infra-env\\lib\\site-packages\\torch\\nn\\modules\\rnn.py:123: UserWarning: dropout option adds dropout after all but last recurrent layer, so non-zero dropout expects num_layers greater than 1, but got dropout=0.3 and num_layers=1\n",
      "  warnings.warn(\n"
     ]
    },
    {
     "name": "stdout",
     "output_type": "stream",
     "text": [
      "Epoch 0/50, Train Loss: 0.6206, Test Loss: 0.1313\n",
      "Epoch 10/50, Train Loss: 0.0304, Test Loss: 0.0333\n",
      "Epoch 20/50, Train Loss: 0.0278, Test Loss: 0.0291\n",
      "Epoch 30/50, Train Loss: 0.0258, Test Loss: 0.0323\n",
      "Epoch 40/50, Train Loss: 0.0263, Test Loss: 0.0315\n"
     ]
    },
    {
     "data": {
      "image/png": "[encoded data removed]",
      "text/plain": [
       "<Figure size 1000x500 with 1 Axes>"
      ]
     },
     "metadata": {},
     "output_type": "display_data"
    },
    {
     "name": "stdout",
     "output_type": "stream",
     "text": [
      "\n",
      "Metrics on original scale:\n",
      "RMSE: 6.33\n",
      "MAE: 5.35\n"
     ]
    }
   ],
   "source": [
    "def main():\n",
    "    # File path to server_usage.csv\n",
    "    file_path = \"server_usage.csv\"\n",
    "    \n",
    "    # Parameters\n",
    "    sequence_length = 10\n",
    "    epochs = 50\n",
    "    batch_size = 32  # Add this parameter\n",
    "    learning_rate = 1e-3\n",
    "    \n",
    "    # Preprocess data\n",
    "    X_train, X_test, y_train, y_test, feature_scaler, target_scaler = preprocess_data(file_path, sequence_length)\n",
    "    \n",
    "    # Train the model - fix parameter order\n",
    "    model, train_losses, test_losses = train_model(\n",
    "        X_train, \n",
    "        y_train, \n",
    "        X_test, \n",
    "        y_test, \n",
    "        sequence_length=sequence_length,\n",
    "        epochs=epochs, \n",
    "        batch_size=batch_size,  # Add batch_size\n",
    "        lr=learning_rate\n",
    "    )\n",
    "    \n",
    "    # Plot losses\n",
    "    plot_losses(train_losses, test_losses)\n",
    "    \n",
    "    # Calculate metrics on original scale\n",
    "    device = torch.device(\"cuda\" if torch.cuda.is_available() else \"cpu\")\n",
    "    with torch.no_grad():\n",
    "        model.eval()\n",
    "        y_pred = model(torch.tensor(X_test, dtype=torch.float32).to(device))\n",
    "        y_pred = y_pred.cpu().numpy()\n",
    "        \n",
    "        # Transform predictions back to original scale\n",
    "        y_pred = target_scaler.inverse_transform(y_pred)\n",
    "        y_test_orig = target_scaler.inverse_transform(y_test.reshape(-1, 1))\n",
    "        \n",
    "        rmse = np.sqrt(mean_squared_error(y_test_orig, y_pred))\n",
    "        mae = mean_absolute_error(y_test_orig, y_pred)\n",
    "        print(f\"\\nMetrics on original scale:\")\n",
    "        print(f\"RMSE: {rmse:.2f}\")\n",
    "        print(f\"MAE: {mae:.2f}\")\n",
    "\n",
    "if __name__ == \"__main__\":\n",
    "    main()"
   ]
  },
  {
   "cell_type": "code",
   "execution_count": null,
   "id": "5d12fbd0-e5cf-4497-bc7a-6b5f657c9e61",
   "metadata": {},
   "outputs": [],
   "source": []
  }
 ],
 "metadata": {
  "kernelspec": {
   "display_name": "Python 3 (ipykernel)",
   "language": "python",
   "name": "python3"
  },
  "language_info": {
   "codemirror_mode": {
    "name": "ipython",
    "version": 3
   },
   "file_extension": ".py",
   "mimetype": "text/x-python",
   "name": "python",
   "nbconvert_exporter": "python",
   "pygments_lexer": "ipython3",
   "version": "3.9.21"
  }
 },
 "nbformat": 4,
 "nbformat_minor": 5
}
